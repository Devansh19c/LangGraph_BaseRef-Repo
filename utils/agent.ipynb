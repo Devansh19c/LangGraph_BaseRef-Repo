{
 "cells": [
  {
   "cell_type": "markdown",
   "metadata": {},
   "source": [
    " *Agent for Support - > State Graph Implementation* "
   ]
  },
  {
   "cell_type": "markdown",
   "metadata": {},
   "source": [
    "Requirements"
   ]
  },
  {
   "cell_type": "code",
   "execution_count": 3,
   "metadata": {},
   "outputs": [],
   "source": [
    "from state import SupportState\n",
    "from nodes import greet_the_user, identify_issue, provide_solution, __inspector__, should_condition_after_inspection,end_function\n",
    "import os\n",
    "from dotenv import load_dotenv\n",
    "from langgraph.graph import END, START, StateGraph\n",
    "from langchain_openai import ChatOpenAI\n",
    "\n",
    "load_dotenv()\n",
    "llm = ChatOpenAI(model_name='gpt-4o-mini', temperature=0.9, api_key=os.getenv('OPENAI_API_KEY'))\n",
    "\n",
    "\n"
   ]
  },
  {
   "cell_type": "markdown",
   "metadata": {},
   "source": [
    "Graph Definition"
   ]
  },
  {
   "cell_type": "code",
   "execution_count": 4,
   "metadata": {},
   "outputs": [],
   "source": [
    "graph = StateGraph(SupportState)\n",
    "\n",
    "graph = StateGraph(SupportState)\n",
    "graph.add_node(\"greet_the_user\", greet_the_user)\n",
    "graph.add_node(\"identify_issue\", identify_issue)\n",
    "graph.add_node(\"provide_solution\", provide_solution)\n",
    "graph.add_node(\"__inspector__\", __inspector__)\n",
    "graph.add_node(\"end_state\",end_function)\n",
    "\n",
    "graph.add_edge(\"greet_the_user\", \"identify_issue\")\n",
    "graph.add_edge(\"identify_issue\", \"provide_solution\")\n",
    "graph.add_edge(\"provide_solution\", \"__inspector__\")\n",
    "graph.add_edge(\"end_state\",END)\n",
    "\n",
    "graph.add_conditional_edges(\"__inspector__\", should_condition_after_inspection,{'provide_solution' :'provide_solution',\n",
    "                                                                                 \"end_state\" : \"end_state\" })\n",
    "\n",
    "graph.set_entry_point(\"greet_the_user\")\n",
    "\n",
    "runnable = graph.compile()"
   ]
  },
  {
   "cell_type": "markdown",
   "metadata": {},
   "source": [
    "Test Case"
   ]
  },
  {
   "cell_type": "code",
   "execution_count": 5,
   "metadata": {},
   "outputs": [
    {
     "name": "stderr",
     "output_type": "stream",
     "text": [
      "c:\\Users\\Dev\\Desktop\\Langgraph\\Support_Agent\\utils\\nodes.py:13: LangChainDeprecationWarning: The method `BaseChatModel.predict` was deprecated in langchain-core 0.1.7 and will be removed in 1.0. Use :meth:`~invoke` instead.\n",
      "  response = llm.predict(prompt)\n"
     ]
    },
    {
     "name": "stdout",
     "output_type": "stream",
     "text": [
      "Hello Dev! How can I assist you today?\n",
      "\n",
      "\n",
      "\n",
      "\n",
      "\n",
      "\n",
      "\n",
      "\n",
      "Hello Dev, I am here to help you. Are you facing any issues that I can assist you with? Please feel free to let me know how I can help you.\n",
      "\n",
      "\n",
      "\n",
      "\n",
      "\n",
      "\n",
      "\n",
      "\n",
      "• Forgetting a mobile password can be a frustrating experience for users.\n",
      "• It can lead to being locked out of the device and losing access to important information.\n",
      "• Some devices may have options for resetting the password, such as using a backup email or answering security questions.\n",
      "• If these options are not available, the user may need to seek help from the device manufacturer or a professional technician to regain access to the device.\n",
      "• It is important to try and remember or securely store passwords to avoid this situation in the future.\n",
      "\n",
      "\n",
      "\n",
      "LLM Feedback : The solution provided accurately addresses the issue of forgetting a mobile password and the potential consequences that come with it. However, it could be more concise by condensing some of the points. \n",
      "\n",
      "For example:\n",
      "\n",
      "- Forgetting a mobile password can result in being locked out of the device and losing access to important information.\n",
      "- Some devices offer options for resetting the password, such as using a backup email or answering security questions.\n",
      "- If these options are not available, seek help from the manufacturer or a professional technician to regain access.\n",
      "- It is important to remember or securely store passwords to prevent this issue in the future. \n",
      "\n",
      "Overall, the solution effectively communicates the importance of password management and the steps to take when faced with a forgotten password.\n",
      "Dev has ordered another Solution\n",
      "- Try entering common passwords or patterns that you frequently use\n",
      "- Reset the password using the \"Forgot Password\" option on the mobile device\n",
      "- Contact the mobile service provider for assistance in resetting the password\n",
      "- Consider seeking help from a professional technician or IT specialist if all else fails\n",
      "\n",
      "\n",
      "\n",
      "LLM Feedback : Feedback: \n",
      "- The solution is accurate and concise in providing steps on how to reset a forgotten password on a mobile device. \n",
      "- However, it is important to note that using common passwords or patterns may not always be the most secure option. \n",
      "- It would be helpful to also recommend creating a strong, unique password to enhance security. \n",
      "- Additionally, providing information on enabling two-factor authentication or password manager apps could be beneficial. \n",
      "- Overall, the solution is informative and provides practical steps for password recovery.\n",
      "Dev has ordered another Solution\n",
      "- Try to recall any possible passwords that you may have used\n",
      "- Attempt to reset the password through the \"Forgot Password\" option\n",
      "- Contact customer support for assistance\n",
      "- Consider visiting a service center for further help\n",
      "- Be prepared to provide verification information to prove ownership of the device\n",
      "\n",
      "\n",
      "\n",
      "LLM Feedback : Feedback: \n",
      "This solution is comprehensive and covers various steps that can be taken to recover a forgotten password. It is clear, concise, and provides a range of options for the user to try. Additionally, emphasizing the need to provide verification information for ownership is important for security purposes. Overall, this solution is well-rounded and effectively guides the user on how to proceed in recovering their password.\n",
      "Dev has ordered another Solution\n",
      "Solution is automatically approved after attempts.\n",
      "#############FINAL SOLUTION#####################\n",
      "- Try to recall any possible passwords that you may have used\n",
      "- Attempt to reset the password through the \"Forgot Password\" option\n",
      "- Contact customer support for assistance\n",
      "- Consider visiting a service center for further help\n",
      "- Be prepared to provide verification information to prove ownership of the device\n",
      "#############FINAL SOLUTION#####################\n",
      "\n",
      "\n",
      "\n",
      "\n",
      "\n",
      "\n",
      "\n",
      "\n",
      "{'name': 'Dev', 'issue': 'forgot mobile password', 'solution_approved': True, 'solution': '- Try to recall any possible passwords that you may have used\\n- Attempt to reset the password through the \"Forgot Password\" option\\n- Contact customer support for assistance\\n- Consider visiting a service center for further help\\n- Be prepared to provide verification information to prove ownership of the device', 'inspection_count': 3}\n"
     ]
    }
   ],
   "source": [
    "def main():\n",
    "    \n",
    "    initial_state = {\n",
    "        \"name\": \"Dev\",\n",
    "        \"issue\": \"forgot mobile password\",  \n",
    "        \"solution_approved\": False,\n",
    "        \"inspection_count\": 0  \n",
    "    }\n",
    "\n",
    "    try:\n",
    "        final_state = runnable.invoke(input=initial_state)\n",
    "        print('#############FINAL SOLUTION#####################')\n",
    "        print(final_state['solution'])\n",
    "        print('#############FINAL SOLUTION#####################')\n",
    "        print('\\n'*7)\n",
    "        return final_state\n",
    "\n",
    "    except Exception as e:\n",
    "        print('e')\n",
    "        return e\n",
    "\n",
    "\n",
    "print(main())\n",
    "\n",
    "\n"
   ]
  },
  {
   "cell_type": "markdown",
   "metadata": {},
   "source": [
    "Graph Representation"
   ]
  },
  {
   "cell_type": "code",
   "execution_count": 7,
   "metadata": {},
   "outputs": [
    {
     "name": "stdout",
     "output_type": "stream",
     "text": [
      "%%{init: {'flowchart': {'curve': 'linear'}}}%%\n",
      "graph TD;\n",
      "\t__start__([<p>__start__</p>]):::first\n",
      "\tgreet_the_user(greet_the_user)\n",
      "\tidentify_issue(identify_issue)\n",
      "\tprovide_solution(provide_solution)\n",
      "\t__inspector__(<p>__inspector__</p>)\n",
      "\tend_state(end_state)\n",
      "\t__end__([<p>__end__</p>]):::last\n",
      "\t__start__ --> greet_the_user;\n",
      "\tend_state --> __end__;\n",
      "\tgreet_the_user --> identify_issue;\n",
      "\tidentify_issue --> provide_solution;\n",
      "\tprovide_solution --> __inspector__;\n",
      "\t__inspector__ -.-> provide_solution;\n",
      "\t__inspector__ -.-> end_state;\n",
      "\tclassDef default fill:#f2f0ff,line-height:1.2\n",
      "\tclassDef first fill-opacity:0\n",
      "\tclassDef last fill:#bfb6fc\n",
      "\n"
     ]
    }
   ],
   "source": [
    "print(runnable.get_graph().draw_mermaid())"
   ]
  },
  {
   "attachments": {
    "image-2.png": {
     "image/png": "[encoded data removed]"
    },
    "image.png": {
     "image/png": "[encoded data removed]"
    }
   },
   "cell_type": "markdown",
   "metadata": {},
   "source": [
    "![image-2.png](attachment:image-2.png)"
   ]
  },
  {
   "cell_type": "code",
   "execution_count": null,
   "metadata": {},
   "outputs": [],
   "source": []
  },
  {
   "cell_type": "code",
   "execution_count": null,
   "metadata": {},
   "outputs": [],
   "source": []
  },
  {
   "cell_type": "code",
   "execution_count": null,
   "metadata": {},
   "outputs": [],
   "source": []
  },
  {
   "cell_type": "code",
   "execution_count": null,
   "metadata": {},
   "outputs": [],
   "source": []
  },
  {
   "cell_type": "code",
   "execution_count": null,
   "metadata": {},
   "outputs": [],
   "source": []
  },
  {
   "cell_type": "code",
   "execution_count": null,
   "metadata": {},
   "outputs": [],
   "source": [
    "from state import SupportState\n",
    "from nodes import greet_the_user, identify_issue, provide_solution, __inspector__, should_condition_after_inspection,end_function\n",
    "import os\n",
    "from dotenv import load_dotenv\n",
    "from langgraph.graph import END, START, StateGraph\n",
    "from langchain_openai import ChatOpenAI\n",
    "\n",
    "load_dotenv()\n",
    "llm = ChatOpenAI(model_name='gpt-4o-mini', temperature=0.9, api_key=os.getenv('OPENAI_API_KEY'))\n",
    "\n",
    "\n",
    "graph = StateGraph(SupportState)\n",
    "\n",
    "graph = StateGraph(SupportState)\n",
    "graph.add_node(\"greet_the_user\", greet_the_user)\n",
    "graph.add_node(\"identify_issue\", identify_issue)\n",
    "graph.add_node(\"provide_solution\", provide_solution)\n",
    "graph.add_node(\"__inspector__\", __inspector__)\n",
    "graph.add_node(\"end_state\",end_function)\n",
    "\n",
    "graph.add_edge(\"greet_the_user\", \"identify_issue\")\n",
    "graph.add_edge(\"identify_issue\", \"provide_solution\")\n",
    "graph.add_edge(\"provide_solution\", \"__inspector__\")\n",
    "graph.add_edge(\"end_state\",END)\n",
    "\n",
    "\n",
    "\n",
    "\n",
    "graph.add_conditional_edges(\"__inspector__\", should_condition_after_inspection,{'provide_solution' :'provide_solution',\n",
    "                                                                                 \"end_state\" : \"end_state\" })\n",
    "\n",
    "graph.set_entry_point(\"greet_the_user\")\n",
    "\n",
    "runnable = graph.compile()\n",
    "\n",
    "\n",
    "\n",
    "def main():\n",
    "    initial_state = {\n",
    "        \"name\": \"John\",\n",
    "        \"issue\": \"forgot mobile password\",  \n",
    "        \"solution_approved\": False,\n",
    "        \"inspection_count\": 0  \n",
    "    }\n",
    "\n",
    "    try:\n",
    "        final_state = runnable.invoke(input=initial_state)\n",
    "        print('#############FINAL SOLUTION#####################')\n",
    "        print(final_state['solution'])\n",
    "        print('#############FINAL SOLUTION#####################')\n",
    "        print('\\n'*7)\n",
    "        return final_state\n",
    "\n",
    "    except Exception as e:\n",
    "        print('e')\n",
    "        return e\n",
    "\n",
    "\n",
    "print(main())\n",
    "\n",
    "\n"
   ]
  }
 ],
 "metadata": {
  "kernelspec": {
   "display_name": "GenAIENV",
   "language": "python",
   "name": "python3"
  },
  "language_info": {
   "codemirror_mode": {
    "name": "ipython",
    "version": 3
   },
   "file_extension": ".py",
   "mimetype": "text/x-python",
   "name": "python",
   "nbconvert_exporter": "python",
   "pygments_lexer": "ipython3",
   "version": "3.12.5"
  }
 },
 "nbformat": 4,
 "nbformat_minor": 2
}
